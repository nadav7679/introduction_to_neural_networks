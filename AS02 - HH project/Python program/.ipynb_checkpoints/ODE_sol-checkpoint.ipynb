{
 "cells": [
  {
   "cell_type": "code",
   "execution_count": 656,
   "metadata": {},
   "outputs": [],
   "source": [
    "import numpy as np\n",
    "from scipy.integrate import odeint\n",
    "import matplotlib.pyplot as plt\n",
    "\n",
    "Gk=0.36;Gna=1.2;Gl=0.003; C=0.01;\n",
    "Ek=(-72.14) ; Ena=55.17 ; El=-49.42;\n",
    "isPoisson = True ; rate = 0.03\n",
    "domain = 100 ; res=0.01 ; \n",
    "tspan = np.arange(0,domain,res)"
   ]
  },
  {
   "cell_type": "code",
   "execution_count": 658,
   "metadata": {},
   "outputs": [
    {
     "data": {
      "text/plain": [
       "[<matplotlib.lines.Line2D at 0x6a1a6448>]"
      ]
     },
     "execution_count": 658,
     "metadata": {},
     "output_type": "execute_result"
    },
    {
     "data": {
      "image/png": "[encoded data removed]",
      "text/plain": [
       "<Figure size 432x288 with 1 Axes>"
      ]
     },
     "metadata": {
      "needs_background": "light"
     },
     "output_type": "display_data"
    }
   ],
   "source": []
  },
  {
   "cell_type": "code",
   "execution_count": 657,
   "metadata": {},
   "outputs": [
    {
     "ename": "KeyboardInterrupt",
     "evalue": "",
     "output_type": "error",
     "traceback": [
      "\u001b[1;31m---------------------------------------------------------------------------\u001b[0m",
      "\u001b[1;31mKeyboardInterrupt\u001b[0m                         Traceback (most recent call last)",
      "\u001b[1;32m<ipython-input-657-eb6715d5af54>\u001b[0m in \u001b[0;36m<module>\u001b[1;34m\u001b[0m\n\u001b[0;32m      7\u001b[0m                 \u001b[0mpoisson\u001b[0m\u001b[1;33m[\u001b[0m\u001b[0mi\u001b[0m\u001b[1;33m]\u001b[0m\u001b[1;33m=\u001b[0m\u001b[1;36m1\u001b[0m\u001b[1;33m\u001b[0m\u001b[1;33m\u001b[0m\u001b[0m\n\u001b[0;32m      8\u001b[0m \u001b[1;33m\u001b[0m\u001b[0m\n\u001b[1;32m----> 9\u001b[1;33m         \u001b[1;32mif\u001b[0m \u001b[0mpoisson\u001b[0m\u001b[1;33m[\u001b[0m\u001b[0mi\u001b[0m\u001b[1;33m]\u001b[0m\u001b[1;33m==\u001b[0m\u001b[1;36m1\u001b[0m\u001b[1;33m:\u001b[0m\u001b[1;33m\u001b[0m\u001b[1;33m\u001b[0m\u001b[0m\n\u001b[0m\u001b[0;32m     10\u001b[0m             \u001b[1;32mfor\u001b[0m \u001b[0mj\u001b[0m \u001b[1;32min\u001b[0m \u001b[0mrange\u001b[0m\u001b[1;33m(\u001b[0m\u001b[0mlength\u001b[0m\u001b[1;33m)\u001b[0m\u001b[1;33m:\u001b[0m\u001b[1;33m\u001b[0m\u001b[1;33m\u001b[0m\u001b[0m\n\u001b[0;32m     11\u001b[0m                 \u001b[0mpoisson\u001b[0m\u001b[1;33m[\u001b[0m\u001b[0mi\u001b[0m\u001b[1;33m]\u001b[0m\u001b[1;33m=\u001b[0m\u001b[1;36m0.5\u001b[0m\u001b[1;33m\u001b[0m\u001b[1;33m\u001b[0m\u001b[0m\n",
      "\u001b[1;31mKeyboardInterrupt\u001b[0m: "
     ]
    }
   ],
   "source": [
    "if isPoisson:\n",
    "    poisson = np.random.poisson(rate,len(tspan))\n",
    "    length = np.where(tspan == 0)[0][0]\n"
   ]
  },
  {
   "cell_type": "code",
   "execution_count": null,
   "metadata": {},
   "outputs": [],
   "source": [
    "\n",
    "def I(t):\n",
    "    \n",
    "    if isPoisson:\n",
    "        return 0.4*poisson[int(t/res)]\n",
    "        \n",
    "        \n",
    "    else:\n",
    "       \n",
    "        A1 = 0.04 ; start1 = 40; stop1 = 42\n",
    "        A2 = 3 ; start2=50 ; stop2 = 52\n",
    "        pulse1 = A1*np.heaviside(t-start1,0)-A1*np.heaviside(t-stop1,0)\n",
    "        pulse2 = A2*np.heaviside(t-start2,0)-A2*np.heaviside(t-stop2,0)\n",
    "        return pulse1 + pulse2\n",
    "\n",
    "def f(y,t):\n",
    "    dydt = [0,0,0,0]\n",
    "    V = y[0]\n",
    "    \n",
    "    an = 0.01*(V+50)/(1-np.exp(-(50+V)/10))\n",
    "    bn = 0.125*np.exp(-(V+60)/80)\n",
    "    \n",
    "    am= 0.1*(35+V)/(1-np.exp(-(35+V)/10))\n",
    "    bm = 4*np.exp(-0.0556*(60+V))\n",
    "    \n",
    "    ah = 0.07*np.exp(-0.05*(V+60))\n",
    "    bh = 1/(1+np.exp(-0.1*(V+30)))\n",
    "    \n",
    "    dydt[0]=(1/C)*(I(t)-Gna*(y[2]**3)*y[3]*(y[0]-Ena)-Gk*(y[1]**4)*(y[0 ]-Ek) -Gl*(y[0]-El));\n",
    "    dydt[1]= an - (an+bn)*y[1]\n",
    "    dydt[2]= am - (am+bm)*y[2]\n",
    "    dydt[3]= ah - (ah+bh)*y[3]\n",
    "    \n",
    "    return dydt\n",
    "\n",
    "    "
   ]
  },
  {
   "cell_type": "code",
   "execution_count": null,
   "metadata": {},
   "outputs": [],
   "source": [
    "sol = odeint(f,[0,0,0,0],tspan)\n",
    "#sol = solve_ivp(lambda t,y:f(t,y),[tspan[0],tspan[-1]],[-50,0,0,0],t_eval=tspan)\n",
    "current = np.zeros(len(tspan))\n",
    "for i in range(len(tspan)):\n",
    "    current[i] = I(tspan[i])"
   ]
  },
  {
   "cell_type": "code",
   "execution_count": null,
   "metadata": {},
   "outputs": [],
   "source": [
    "plt.xlabel(\" Time [msec] \")\n",
    "plt.ylabel(\" Current [mA] \")\n",
    "#plt.ylabel(\" Voltage [mV] \")\n",
    "\n",
    "plt.plot(tspan,current, label=\"Input Current\")\n",
    "#plt.plot(tspan,sol[:,0],label =\"Voltage output\")\n",
    "#plt.plot(tspan,sol[:,1]**4,label =\"n^4 : K+ activation\")\n",
    "#plt.plot(tspan,sol[:,2]**3,label =\"m^3 : Na+ activation \")\n",
    "#plt.plot(tspan,sol[:,3],label =\"h : Na+ inactivation\")\n",
    "plt.xlim(35,70)\n",
    "plt.grid()\n",
    "plt.legend()\n",
    "plt.savefig(\"Double pulse current2\")\n",
    "\n"
   ]
  },
  {
   "cell_type": "code",
   "execution_count": null,
   "metadata": {},
   "outputs": [],
   "source": []
  }
 ],
 "metadata": {
  "kernelspec": {
   "display_name": "Python 3",
   "language": "python",
   "name": "python3"
  },
  "language_info": {
   "codemirror_mode": {
    "name": "ipython",
    "version": 3
   },
   "file_extension": ".py",
   "mimetype": "text/x-python",
   "name": "python",
   "nbconvert_exporter": "python",
   "pygments_lexer": "ipython3",
   "version": "3.7.6"
  }
 },
 "nbformat": 4,
 "nbformat_minor": 4
}
