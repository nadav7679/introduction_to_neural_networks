{
 "cells": [
  {
   "cell_type": "code",
   "execution_count": 216,
   "metadata": {},
   "outputs": [],
   "source": [
    "import numpy as np\n",
    "from scipy.integrate import odeint\n",
    "import matplotlib.pyplot as plt\n",
    "\n",
    "Gk=0.36;Gna=1.2;Gl=0.003; C=0.01;\n",
    "Ek=(-72.14) ; Ena=55.17 ; El=-49.42;\n",
    "isPoisson = False ; rate = 0.32\n",
    "domain = 120 ; res = 0.01\n",
    "tspan = np.arange(0,domain,res)"
   ]
  },
  {
   "cell_type": "code",
   "execution_count": 217,
   "metadata": {},
   "outputs": [],
   "source": [
    "if isPoisson:\n",
    "    poisson1 = np.random.poisson(rate,len(tspan))\n",
    "    poisson = np.zeros(len(tspan))\n",
    "    length = np.where(tspan == 20)[0][0]\n",
    "    \n",
    "    for i in range(len(tspan)):\n",
    "        if poisson1[i] > 1:\n",
    "            poisson1[i] = 1\n",
    "        for j in range(length):\n",
    "            if i*length + j < len(poisson):\n",
    "                poisson[i*length + j] = poisson1[i]\n",
    "            else:\n",
    "                break\n",
    "#plt.plot(tspan,poisson)"
   ]
  },
  {
   "cell_type": "code",
   "execution_count": 281,
   "metadata": {},
   "outputs": [],
   "source": [
    "\n",
    "def I(t):\n",
    "    \n",
    "    if isPoisson == True:\n",
    "        return 0.4*poisson[int(t/res)]\n",
    "        \n",
    "    else:\n",
    "       \n",
    "        A1 = 0.08 ; start1 = 70; stop1 = 120\n",
    "        A2 = 0 ; start2=50 ; stop2 = 52\n",
    "        pulse1 = A1*np.heaviside(t-start1,0)-A1*np.heaviside(t-stop1,0)\n",
    "        pulse2 = A2*np.heaviside(t-start2,0)-A2*np.heaviside(t-stop2,0)\n",
    "        return pulse1 + pulse2\n",
    "\n",
    "def f(y,t):\n",
    "    dydt = [0,0,0,0]\n",
    "    V = y[0]\n",
    "    \n",
    "    an = 0.01*(V+50)/(1-np.exp(-(50+V)/10))\n",
    "    bn = 0.125*np.exp(-(V+60)/80)\n",
    "    \n",
    "    am= 0.1*(35+V)/(1-np.exp(-(35+V)/10))\n",
    "    bm = 4*np.exp(-0.0556*(60+V))\n",
    "    \n",
    "    ah = 0.07*np.exp(-0.05*(V+60))\n",
    "    bh = 1/(1+np.exp(-0.1*(V+30)))\n",
    "    \n",
    "    dydt[0]=(1/C)*(I(t)-Gna*(y[2]**3)*y[3]*(y[0]-Ena)-Gk*(y[1]**4)*(y[0 ]-Ek) -Gl*(y[0]-El));\n",
    "    dydt[1]= an - (an+bn)*y[1]\n",
    "    dydt[2]= am - (am+bm)*y[2]\n",
    "    dydt[3]= ah - (ah+bh)*y[3]\n",
    "    \n",
    "    return dydt\n",
    "\n",
    "    "
   ]
  },
  {
   "cell_type": "code",
   "execution_count": 282,
   "metadata": {},
   "outputs": [],
   "source": [
    "sol = odeint(f,[0,0,0,0],tspan)\n",
    "#sol = solve_ivp(lambda t,y:f(t,y),[tspan[0],tspan[-1]],[-50,0,0,0],t_eval=tspan)\n",
    "current = np.zeros(len(tspan))\n",
    "for i in range(len(tspan)):\n",
    "    current[i] = I(tspan[i])"
   ]
  },
  {
   "cell_type": "code",
   "execution_count": 283,
   "metadata": {},
   "outputs": [
    {
     "data": {
      "image/png": "[encoded data removed]",
      "text/plain": [
       "<Figure size 432x288 with 1 Axes>"
      ]
     },
     "metadata": {
      "needs_background": "light"
     },
     "output_type": "display_data"
    }
   ],
   "source": [
    "plt.xlabel(\" Time [msec] \")\n",
    "#plt.ylabel(\" Current [mA] \")\n",
    "plt.ylabel(\" Voltage [mV] \")\n",
    "\n",
    "plt.plot(tspan,current, label=\"Input Current\")\n",
    "plt.plot(tspan,sol[:,0],label =\"Voltage output\")\n",
    "#plt.plot(tspan,sol[:,1]**4,label =\"n^4 : K+ activation\")\n",
    "#plt.plot(tspan,sol[:,2]**3,label =\"m^3 : Na+ activation \")\n",
    "#plt.plot(tspan,sol[:,3],label =\"h : Na+ inactivation\")\n",
    "plt.xlim(60,domain)\n",
    "plt.grid()\n",
    "#plt.legend()\n",
    "plt.savefig(\"Poisson voltage rate 032\")\n",
    "\n"
   ]
  },
  {
   "cell_type": "code",
   "execution_count": 284,
   "metadata": {},
   "outputs": [],
   "source": [
    "def frequency (voltage,start,res):\n",
    "    count = 0\n",
    "    period = 0\n",
    "    for i in range(start,len(voltage)):\n",
    "        period += 1\n",
    "        if voltage[i]>-20 and voltage[i]>voltage[i-1]:\n",
    "            count += 1\n",
    "    period *= res\n",
    "    return count/period\n",
    "    "
   ]
  },
  {
   "cell_type": "code",
   "execution_count": 285,
   "metadata": {},
   "outputs": [
    {
     "data": {
      "text/plain": [
       "1.0458715596330275"
      ]
     },
     "execution_count": 285,
     "metadata": {},
     "output_type": "execute_result"
    }
   ],
   "source": [
    "frequency(sol[:,0],1100,res)"
   ]
  },
  {
   "cell_type": "code",
   "execution_count": null,
   "metadata": {},
   "outputs": [],
   "source": [
    "A = range(0,2,0.1)\n",
    "omega = [0,1.422,1.853,1.917,2.39,2.467,2.669,2.972,2.862,2.944]"
   ]
  }
 ],
 "metadata": {
  "kernelspec": {
   "display_name": "Python 3",
   "language": "python",
   "name": "python3"
  },
  "language_info": {
   "codemirror_mode": {
    "name": "ipython",
    "version": 3
   },
   "file_extension": ".py",
   "mimetype": "text/x-python",
   "name": "python",
   "nbconvert_exporter": "python",
   "pygments_lexer": "ipython3",
   "version": "3.7.6"
  }
 },
 "nbformat": 4,
 "nbformat_minor": 4
}
